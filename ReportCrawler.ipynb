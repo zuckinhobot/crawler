{
 "cells": [
  {
   "cell_type": "code",
   "execution_count": 1,
   "metadata": {},
   "outputs": [
    {
     "name": "stdout",
     "output_type": "stream",
     "text": [
      "Time init: 1602807714.3875933\n"
     ]
    }
   ],
   "source": [
    "from main_test import execute_zuck"
   ]
  },
  {
   "cell_type": "markdown",
   "metadata": {},
   "source": [
    "# Relatório final zuckinhobot"
   ]
  },
  {
   "cell_type": "markdown",
   "metadata": {},
   "source": [
    "Zuckinhobot é um bebê coletor que está aprendendo a engatinhar nas mãos dos alunos:\n",
    "* Christian Cantarino\n",
    "* Gabriel Dutra\n",
    "* Rubio Viana\n",
    "\n",
    "A proposta é que esse coletor siga sempre as regras necessárias especificadas pelo mundo que ele irá viver e pelo chefe do seus criadores, vulgo Daniel Hasan."
   ]
  },
  {
   "cell_type": "markdown",
   "metadata": {},
   "source": [
    "## Sobre sua criação"
   ]
  },
  {
   "cell_type": "markdown",
   "metadata": {},
   "source": [
    "### Desafios na criação da bebê bot\n",
    "\n",
    "A nossa missão na educação do nosso programa é:\n",
    "\n",
    "* Sincronização das threads para cada requisição.\n",
    "* Contornar erros de pagina."
   ]
  },
  {
   "cell_type": "markdown",
   "metadata": {},
   "source": [
    "## Decisões de criação\n",
    "\n",
    "A equipe, quase que em um ambiente familiar, tivemos que tomar decisões em meio ao caos são elas:\n",
    "* Classe Domain\n",
    "    * Inicialização do ultimo acesso.\n",
    "    * Modelagem e operações com as datas.\n",
    "    * Verificar tipo do dominio que está sendo passado(str/domain) para montar a comparação.\n",
    "* Scheduler\n",
    "    * Decidido como 20 seg o intevalo de execução.\n",
    "    * Metodos sincronizados.\n",
    "    * Falhas de requisição do robot não quebrar toda a pesquisa, apenas aquele ramo.\n",
    "* PageFetcher\n",
    "    * O nome que nosso coletor vai carregar é em homenagem ao eterno mascote de computação : Zuckinho\n",
    "    * Filtragem de paginas pelo seu content-type\n",
    "    * \n",
    "    "
   ]
  },
  {
   "cell_type": "markdown",
   "metadata": {},
   "source": [
    "## Seeds\n",
    "Usamos sementes para colher bons frutos para nosso coletor, são eles:\n",
    "* \"http://www.uol.com.br/\"\n",
    "* \"https://brasilescola.uol.com.br/\"\n",
    "* \"https://www.cnnbrasil.com.br/\""
   ]
  },
  {
   "cell_type": "code",
   "execution_count": 2,
   "metadata": {},
   "outputs": [],
   "source": [
    "url_seeds = [\n",
    "    \"http://www.uol.com.br/\",\"https://brasilescola.uol.com.br/\",\"https://www.cnnbrasil.com.br/\"\n",
    "]"
   ]
  },
  {
   "cell_type": "markdown",
   "metadata": {},
   "source": [
    "Alem disso nesse inicio teremos o limite de 100 paginas e uma profundidade de 30 paginas."
   ]
  },
  {
   "cell_type": "code",
   "execution_count": 3,
   "metadata": {},
   "outputs": [
    {
     "name": "stdout",
     "output_type": "stream",
     "text": [
      "Thread started!\n",
      "Thread started!\n",
      "Thread started!Thread started!\n",
      "Thread started!\n",
      "\n"
     ]
    }
   ],
   "source": [
    "int_page_limit = 100\n",
    "int_depth_limit = 30\n",
    "numthread = 5\n",
    "\n",
    "time = execute_zuck(url_seeds,int_page_limit,int_depth_limit,numthread)"
   ]
  },
  {
   "cell_type": "code",
   "execution_count": 4,
   "metadata": {},
   "outputs": [
    {
     "data": {
      "text/plain": [
       "<crawler.scheduler.Scheduler at 0x7f027c0b0860>"
      ]
     },
     "execution_count": 4,
     "metadata": {},
     "output_type": "execute_result"
    },
    {
     "name": "stdout",
     "output_type": "stream",
     "text": [
      "http://www.uol.com.br/\n",
      "http://www.uol.com.br//#versao-mobile\n",
      "http://batepapo.uol.com.br/\n",
      "https://brasilescola.uol.com.br/\n",
      "http://clicklogger.rm.uol.com.br/?prd=16&grp=src:210;chn:0;creative:barrauol;thm:barrauol-host&msr=Cliques%20de%20Origem:1&oper=11&redir=http://www.uolhost.com.br/\n",
      "https://www.portaleducacao.com.br/portal-play?utm_source=uol&utm_medium=menu&utm_campaign=portalplay&utm_term=menu\n",
      "https://email.uol.com.br/\n",
      "https://www.uol.com.br/\n",
      "https://www.uol.com.br/vivabem/podcast/maratona/\n",
      "http://email.uol.com.br/gigamail/#rmcl\n",
      "https://www.uol.com.br/podcasts\n",
      "https://economia.uol.com.br/cotacoes/cambio/\n",
      "https://sac.uol.com.br/#/\n",
      "http://clicklogger.rm.uol.com.br/?prd=32&grp=src:210;chn:0;creative:barrauol;thm:barrauol-pagseguro&msr=Cliques%20de%20Origem:1&oper=11&redir=https://pagseguro.uol.com.br/\n",
      "https://sac.uol.com.br/#/atendimento-online\n",
      "https://ads.uol.com.br/login?utm_source=uol.com.br&utm_medium=link-fixo-menu%20-produtos&utm_campaign=link-fixo-uol%20ads&utm_term=link-fixo-menu-produtos&utm_content=link-fixo-uol-ads\n",
      "https://clicklogger.rm.uol.com.br/?prd=11&grp=src:13;chn:539;cpg:linkfixo_menu;creative:assine&msr=Cliques%20de%20Origem:1&oper=11&redir=https://assine.uol.com.br/\n",
      "https://www.portaleducacao.com.br/curso-online-idiomas-ingles-uol-12-meses-reading-listening-and-writing/p \n",
      "https://med.uol.com.br/?utm_source=uol%20br%20-%20menu%20navegacao&utm_medium=link-fixo&utm_campaign=linkfixo_menu&utm_content=assine-uolmed\n",
      "https://www.portaleducacao.com.br/cursos?utm_source=uol&utm_medium=header-menu&utm_campaign=cursos\n",
      "https://educacao.uol.com.br/\n",
      "https://uol.com.br/mov/fora-de-serie\n",
      "https://email.uol.com.br///login\n",
      "https://www.uol.com.br/esporte/podcast/posse-de-bola/\n",
      "https://carros.uol.com.br\n",
      "https://clicklogger.rm.uol.com.br/?prd=11&grp=src:13;chn:0;cpg:linkfixo_menu;creative:assine-planosdeassinatura&msr=Cliques%20de%20Origem:1&oper=11&redir=https://assine.uol.com.br/\n",
      "https://economia.uol.com.br/cotacoes/cambio/euro-uniao-europeia/\n",
      "https://ads.uol.com.br/login?utm_source=uol.com.br&utm_medium=link-fixo-menu%20-produtos&utm_campaign=link-fixo-uol%20ads&utm_term=link-fixo-menu-produtos&utm_content=link-fixo-uol-ads/\n",
      "https://clube.uol.com.br/?utm_source=uol_home_menu-produtos&utm_medium=link-fixo&utm_campaign=linkfixo_menu_produtos&utm_content=clube-uol\n",
      "https://www.folha.uol.com.br/\n",
      "https://placar.uol.com.br/esporte/tenis/jogos-do-dia/\n",
      "https://splash.uol.com.br/otalab/\n",
      "https://tvefamosos.uol.com.br\n",
      "https://universa.uol.com.br\n",
      "https://vivabem.uol.com.br\n",
      "https://sac.uol.com.br\n",
      "https://www.portaleducacao.com.br/portal-play?utm_source=uol&utm_medium=menu&utm_campaign=portalplay&utm_term=menu//portal-play-empresas\n",
      "https://med.uol.com.br/#como-funciona?utm_source=uol.com.br&utm_medium=vivabem-comofunciona&utm_campaign=menu-viva-bem_como-funciona&utm_term=como-funciona-uolmed&utm_content=menu-vivabem-como-funciona-uolmed\n",
      "https://tilt.uol.com.br\n",
      "https://ecoa.uol.com.br\n",
      "https://painel.med.uol.com.br/redeatendimento?utm_source=Home%20UOL&utm_medium=barrauol-menu-viva-bem&utm_campaign=barrauol-menu-viva-bem&utm_term=menu-barrauol-home-uol&utm_content=uolmed-menu-home-viva-bem\n",
      "https://videos.band.uol.com.br/\n",
      "http://clicklogger.rm.uol.com.br/?prd=18&grp=src:5;chn:0;cpg:menuprodutoshomeuol;creative:menuprodutoshomeuol;&msr=Cliques%20de%20Origem:1&oper=11&redir=http://email.uol.com.br/bem-vindo\n",
      "https://www.uol.com.br/universa/podcast/sexoterapia/\n",
      "http://email.uol.com.br/bem-vindo\n",
      "https://economia.uol.com.br/mais/assine#utm_source=uol_home_menu-produtos&utm_medium=link-fixo&utm_campaign=linkfixo_menu_produtos&utm_term=linkfixo_menu_produtos-economia_mais&utm_content=economia_mais\n",
      "https://caras.uol.com.br/tv/\n",
      "https://www.portaleducacao.com.br/portal-play?utm_source=uol&utm_medium=menu&utm_campaign=portalplay&utm_term=menu//\n",
      "https://ads.uol.com.br/login?utm_source=uol.com.br&utm_medium=link-fixo-menu%20-produtos&utm_campaign=link-fixo-uol%20ads&utm_term=link-fixo-menu-produtos&utm_content=link-fixo-uol-ads/#conheca\n",
      "https://clube.uol.com.br/#utm_source=pgvenda_assine&utm_medium=link-footer_pgvenda-assine&utm_campaign=pgvendas-uol-assine&utm_term=link-footer-clube_assine\n",
      "http://educacao.uol.com.br/\n",
      "https://carros.uol.com.br/meu-carro\n",
      "https://sac.uol.com.br/ajuda/category/bate-papo-uol\n",
      "https://uol.com.br/mov/retrato\n",
      "https://med.uol.com.br/farmacias?utm_source=uol.com.br&utm_medium=vivabem-farmacias&utm_campaign=menu-viva-bem_farmacias&utm_term=farmacias-uolmed&utm_content=menu-vivabem-farmacias-uolmed\n",
      "https://placar.uol.com.br/esporte/futebol/brasileiro/2020/10/15/flamengo-x-red-bull-bragantino.htm\n",
      "https://tvefamosos.uol.com.br/famosos/\n",
      "http://tilt.uol.com.br/ficadica\n",
      "https://clube.uol.com.br/?utm_source=link-fixo&utm_medium=uol-med_pagina-de-vendas_link-fixo&utm_campaign=uolmed&utm_term=redir-clubeuol\n",
      "http://caras.uol.com.br/\n",
      "https://tab.uol.com.br\n",
      "https://www.uol.com.br/splash/podcast/uol-ve-tv\n",
      "https://clicklogger.rm.uol.com.br/?prd=940&grp=src:13;chn:539;cpg:linkfixo_menu;creative:assine-bate-papo&msr=Cliques%20de%20Origem:1&oper=11&redir=https://batepapo.uol.com.br/\n",
      "https://start.uol.com.br\n",
      "https://www.redetv.uol.com.br/videos/\n",
      "https://painel.med.uol.com.br\n",
      "https://migalhas.uol.com.br/quentes/334971/nao-me-sinto-no-banco-dos-reus---afirma-marco-aurelio-por-mandar-soltar-andre-do-rap\n",
      "https://www1.folha.uol.com.br/mercado/2020/10/guedes-tira-salario-extra-de-r-21-mil-de-marinho-com-aval-de-bolsonaro.shtml\n",
      "https://clicklogger.rm.uol.com.br/?prd=2&grp=src:13;chn:539;cpg:linkfixo_menu;creative:assine-segurancadigital&msr=Cliques%20de%20Origem:1&oper=11&redir=https://seguranca.uol.com.br/\n",
      "https://www.uol.com.br/mov/mov-doc\n",
      "https://email.uol.com.br/login\n",
      "https://economia.uol.com.br/podcast/uol-lideres\n",
      "https://ads.uol.com.br/login?utm_source=uol.com.br&utm_medium=link-fixo-menu%20-produtos&utm_campaign=link-fixo-uol%20ads&utm_term=link-fixo-menu-produtos&utm_content=link-fixo-uol-ads/#como-funciona\n",
      "https://6minutos.uol.com.br/economia/pix-usuarios-relatam-cadastramento-indevido-de-chaves-no-mercado-pago-e-nubank/\n",
      "https://www.portaleducacao.com.br/suporte/fale-conosco\n",
      "http://educacao.uol.com.br/bancoderedacoes/\n",
      "https://uol.com.br/mov/juca-explica/\n",
      "https://sac.uol.com.br/\n",
      "https://carros.uol.com.br/avaliacao/videos\n",
      "https://med.uol.com.br/#planos?utm_source=uol.com.br&utm_medium=vivabem-planos&utm_campaign=menu-viva-bem_planos&utm_term=planos-uolmed&utm_content=menu-vivabem-planos-uolmed\n",
      "https://tvefamosos.uol.com.br/televisao/\n",
      "https://clube.uol.com.br/?utm_source=link-fixo&utm_medium=uol-med_pagina-de-vendas_link-footer&utm_campaign=uolmed&utm_term=redir-clubeuol\n",
      "https://placar.uol.com.br/esporte/tenis/jogos-de-hoje/\n",
      "https://tilt.uol.com.br/\n",
      "https://tab.uol.com.br/edicoes/\n",
      "https://start.uol.com.br/\n",
      "https://www.portaleducacao.com.br/checkout/cart/add?=&sku=19352&qty=1&seller=1\n",
      "https://folha.uol.com.br\n",
      "https://painel.med.uol.com.br/redeatendimento?utm_source=Home%20UOL&utm_medium=barrauol-menu-viva-bem&utm_campaign=barrauol-menu-viva-bem&utm_term=menu-barrauol-home-uol&utm_content=uolmed-menu-home-viva-bem/javascript:;\n",
      "https://caras.uol.com.br/tv///\n",
      "http://www.redetv.uol.com.br/\n",
      "https://f5.folha.uol.com.br/celebridades/2020/10/justica-de-sp-determina-penhora-de-cache-do-cantor-giovani-para-quitacao-de-dividas.shtml\n",
      "http://comissaoarns.blogosfera.uol.com.br/2020/10/15/louis-joinet-nosso-aliado-na-resistencia-a-ditadura/\n",
      "http://email.uol.com.br/bem-vindo/#conheca\n",
      "https://www.uol.com.br/carros/avaliacao\n",
      "https://economia.uol.com.br/podcast/midia-e-marketing\n",
      "https://renatoterra.blogfolha.uol.com.br/2020/10/15/marco-aurelio-manda-soltar-intestino-de-vice-lider-do-governo/\n",
      "https://ads.uol.com.br/login?utm_source=uol.com.br&utm_medium=link-fixo-menu%20-produtos&utm_campaign=link-fixo-uol%20ads&utm_term=link-fixo-menu-produtos&utm_content=link-fixo-uol-ads//politica-de-veiculacao\n",
      "https://motor1.uol.com.br/reviews/448920/nissan-xtrail-primeiras-impressoes-exclusivo/\n",
      "http://clicklogger.rm.uol.com.br/?prd=&grp=src:;chn:;cpg:linkfixo_menu;creative:assine-assistenciatecnica;&msr=Cliques%20de%20Origem:1&oper=11&redir=https://assistenciatecnica.uol.com.br/#rmcl\n",
      "https://sac.uol.com.br/#//{{getHelpUrl()}}\n",
      "Thread ended!\n",
      "https://educacao.uol.com.br/enem/\n",
      "Thread ended!\n",
      "https://med.uol.com.br/?utm_source=uol.com.br&utm_medium=UOLHome&utm_campaign=linkfixo_rodapel&utm_term=rodape-uolmed&utm_content=rodape-uolmed\n",
      "Thread ended!\n"
     ]
    },
    {
     "name": "stdout",
     "output_type": "stream",
     "text": [
      "https://clube.uol.com.br\n",
      "Thread ended!\n",
      "https://www.portaleducacao.com.br/checkout/cart/add?=&sku=19353&qty=1&seller=1\n",
      "Thread ended!\n"
     ]
    }
   ],
   "source": [
    "time"
   ]
  },
  {
   "cell_type": "code",
   "execution_count": null,
   "metadata": {},
   "outputs": [],
   "source": []
  }
 ],
 "metadata": {
  "kernelspec": {
   "display_name": "Python 3.6.9 64-bit",
   "language": "python",
   "name": "python36964bit09fbf395f9be498698ee98b9d0fd1948"
  },
  "language_info": {
   "codemirror_mode": {
    "name": "ipython",
    "version": 3
   },
   "file_extension": ".py",
   "mimetype": "text/x-python",
   "name": "python",
   "nbconvert_exporter": "python",
   "pygments_lexer": "ipython3",
   "version": "3.6.9"
  }
 },
 "nbformat": 4,
 "nbformat_minor": 2
}
